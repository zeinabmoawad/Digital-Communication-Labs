{
 "cells": [
  {
   "cell_type": "code",
   "execution_count": null,
   "metadata": {},
   "outputs": [],
   "source": [
    "import math\n",
    "import numpy as np\n",
    "import matplotlib.pyplot as plt"
   ]
  },
  {
   "cell_type": "code",
   "execution_count": null,
   "metadata": {},
   "outputs": [],
   "source": [
    "def binarycode_to_signal(bitstream, step):\n",
    "    T = 1  # assume the pulse period is 1\n",
    "    A = 1  # assume the amplitude is 1\n",
    "    pulse = np.ones(math.ceil(T/step)) * A\n",
    "    # pulse = pulse*A\n",
    "    signal = np.zeros(len(bitstream)*len(pulse))\n",
    "    # Polar nonreturn to zero\n",
    "    for i in range(len(bitstream)):\n",
    "        if bitstream[i] == 1:\n",
    "            signal[i*len(pulse):(i+1)*len(pulse)] = 1*pulse   \n",
    "        else:\n",
    "            signal[i*len(pulse):(i+1)*len(pulse)] = -1*pulse\n",
    "    return signal  "
   ]
  },
  {
   "cell_type": "code",
   "execution_count": null,
   "metadata": {},
   "outputs": [],
   "source": [
    "def add_noise(generated_bits, sigma,n,step):\n",
    "    generated_noise = np.random.normal(loc=0, scale=sigma, size=n*math.ceil(1/step))\n",
    "\n",
    "    scaled_samples_with_noise = np.ones((generated_bits.shape[0], math.ceil(1/step)))\n",
    "    scaled_samples = np.ones((generated_bits.shape[0], math.ceil(1/step)))\n",
    "    for i in range(generated_bits.shape[0]):\n",
    "        scaled_samples[i, :] *= generated_bits[i]\n",
    "        scaled_samples_with_noise[i, :] *= generated_bits[i]\n",
    "        scaled_samples_with_noise[i, :] += generated_noise[i* math.ceil(1/step):(i+1)* math.ceil(1/step)]\n",
    "    return scaled_samples, scaled_samples_with_noise"
   ]
  },
  {
   "cell_type": "code",
   "execution_count": null,
   "metadata": {},
   "outputs": [],
   "source": [
    "def calc_c(scaled_samples_with_noise, received_filter,num_of_bits,num_of_samples_per_bit):\n",
    "    convolution_result_sampled_Tp = np.zeros(num_of_bits)\n",
    "    \n",
    "    if(received_filter is None):\n",
    "        convolution_result = scaled_samples_with_noise.flatten()\n",
    "    else:\n",
    "        convolution_result = np.convolve(scaled_samples_with_noise.flatten(), received_filter)\n",
    "    for i in range(num_of_bits):\n",
    "        convolution_result_sampled_Tp[i] = convolution_result[(num_of_samples_per_bit - 1) + num_of_samples_per_bit * i]\n",
    "\n",
    "    return convolution_result, convolution_result_sampled_Tp"
   ]
  },
  {
   "cell_type": "code",
   "execution_count": null,
   "metadata": {},
   "outputs": [],
   "source": [
    "def calc_simulated_BER(true_bits, convolution_result):\n",
    "    # applying lamda thresholed (lamda optimum = 0)\n",
    "    received_samples = np.ones(true_bits.shape[0])\n",
    "    received_samples += (-2 * (convolution_result < 0))\n",
    "\n",
    "    # calculate probability of error\n",
    "    error_probability = np.sum(received_samples != true_bits)\n",
    "    error_probability /= true_bits.shape[0]\n",
    "    return error_probability\n",
    "\n",
    "\n",
    "def calc_theoretical_BER(erfc_parameter,factor):\n",
    "    return factor*math.erfc(erfc_parameter)# Question multiply with half"
   ]
  }
 ],
 "metadata": {
  "language_info": {
   "name": "python"
  },
  "orig_nbformat": 4
 },
 "nbformat": 4,
 "nbformat_minor": 2
}
