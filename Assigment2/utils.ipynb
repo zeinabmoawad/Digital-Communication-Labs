{
 "cells": [
  {
   "cell_type": "code",
   "execution_count": null,
   "metadata": {},
   "outputs": [],
   "source": [
    "import math\n",
    "import numpy as np\n",
    "import matplotlib.pyplot as plt"
   ]
  },
  {
   "cell_type": "code",
   "execution_count": null,
   "metadata": {},
   "outputs": [],
   "source": [
    "def binarycode_to_signal(bitstream, step):\n",
    "    T = 1 \n",
    "    A = 1 \n",
    "    pulse = np.ones(int(T/step))\n",
    "    pulse = pulse*A\n",
    "    signal = np.zeros(len(bitstream)*len(pulse))\n",
    "    for i in range(len(bitstream)):\n",
    "        if bitstream[i] == 1:\n",
    "            signal[i*len(pulse):(i+1)*len(pulse)] = 1*pulse \n",
    "        else:\n",
    "            signal[i*len(pulse):(i+1)*len(pulse)] = -1*pulse\n",
    "    return signal"
   ]
  },
  {
   "cell_type": "code",
   "execution_count": null,
   "metadata": {},
   "outputs": [],
   "source": [
    "def add_AWGN_noise(signal,n, sigma):\n",
    "     w_t =np.random.normal(0,sigma,n)\n",
    "     s_t = signal + w_t\n",
    "     return s_t"
   ]
  },
  {
   "cell_type": "code",
   "execution_count": null,
   "metadata": {},
   "outputs": [],
   "source": [
    "def receive_filter(signal_noise, filter_num, step):\n",
    "   filter_num-=1\n",
    "   filters = [np.ones(int(1/step)), np.ones(1), np.sqrt(3)*np.arange(0, 1, step)]\n",
    "   filter = filters[filter_num]\n",
    "   filter = np.concatenate((filter, np.zeros(int(1/step)-len(filter))))\n",
    "   signal_noise_filter=np.convolve(signal_noise, filter)\n",
    "   if (filter_num==0 or filter_num==2):\n",
    "      signal_noise_filter=signal_noise_filter*step\n",
    "   return signal_noise_filter"
   ]
  },
  {
   "cell_type": "code",
   "execution_count": null,
   "metadata": {},
   "outputs": [],
   "source": [
    "def sampling(sampling_period, signal_noise_filtered, n=10):\n",
    "   samples = np.zeros(n)\n",
    "   for i in range(len(samples)):\n",
    "      samples[i] = signal_noise_filtered[sampling_period-1+i*sampling_period]\n",
    "   return samples"
   ]
  },
  {
   "cell_type": "code",
   "execution_count": null,
   "metadata": {},
   "outputs": [],
   "source": [
    "def signal_to_binarycode(samples, λ):\n",
    "   return (samples>λ)*1"
   ]
  },
  {
   "cell_type": "code",
   "execution_count": null,
   "metadata": {},
   "outputs": [],
   "source": [
    "def calc_simulated_BER(input_bitstream , bitstream_output):\n",
    "  \n",
    "    sim_BER=np.sum(input_bitstream != bitstream_output)/len(input_bitstream)\n",
    "    return sim_BER\n",
    "\n",
    "def calc_theoretical_BER(erfc_parameter):\n",
    "    return 0.5 * math.erfc(erfc_parameter/math.sqrt(2))"
   ]
  }
 ],
 "metadata": {
  "language_info": {
   "name": "python"
  },
  "orig_nbformat": 4
 },
 "nbformat": 4,
 "nbformat_minor": 2
}
